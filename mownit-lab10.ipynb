{
 "cells": [
  {
   "cell_type": "markdown",
   "metadata": {},
   "source": [
    "##  Rozwiązywanie układu równań liniowych metodami rozkładu LU  \n",
    "#### Zadanie 1  \n",
    "Zaimplementuj metody rozkładu LU:\n",
    "- Rozkład Crouta  \n",
    "- Rozkład Doolitla  \n",
    "- Rozkład Choleskyego  \n",
    "  \n",
    "Dla każdej z metod podaj warunki niezbędne aby można ją było zastosować. Sprawdź poprawność działania tych metod.\n",
    "Przetestuj wydajność algorytmów dla kilku rozmiarów macierzy (podobnie jak w ćwiczeniu 9)."
   ]
  },
  {
   "cell_type": "code",
   "execution_count": 58,
   "metadata": {
    "pycharm": {
     "is_executing": false
    }
   },
   "outputs": [
    {
     "name": "stdout",
     "output_type": "stream",
     "text": [
      "\n"
     ]
    }
   ],
   "source": [
    "import numpy as np\n",
    "from scipy import linalg\n",
    "import time as time\n",
    "from sklearn.linear_model.tests.test_passive_aggressive import random_state\n",
    "from sklearn.utils import check_random_state\n",
    "\n",
    "def croutD(A):\n",
    "    n=len(A)\n",
    "    L = np.zeros((n, n))\n",
    "    U = np.zeros((n, n))\n",
    "\n",
    "    for k in range(0, n):\n",
    "        U[k, k] = 1 \n",
    "        for j in range(k, n):\n",
    "            sum0 = sum([L[j, s] * U[s, k] for s in range(0, j)])\n",
    "            L[j, k] = A[j, k] - sum0\n",
    "\n",
    "        for j in range(k+1, n):\n",
    "            sum1 = sum([L[k, s] * U[s, j] for s in range(0, k)]) \n",
    "            U[k, j] = (A[k, j] - sum1) / L[k, k]\n",
    "    return L,U\n",
    "\n",
    "A = np.array([[1,2,3], [2,20,26], [3,26,0]])\n",
    "croutD(A)\n",
    "\n",
    "def doolittleD(A):\n",
    "    n=len(A)\n",
    "    L = np.zeros((n, n))\n",
    "    U = np.zeros((n, n))\n",
    "    \n",
    "    for i in range(n): \n",
    "        for k in range(i, n):  \n",
    "            sum = 0; \n",
    "            for j in range(i): \n",
    "                sum += (L[i][j] * U[j][k]); \n",
    "            U[i][k] = A[i][k] - sum; \n",
    "        for k in range(i, n): \n",
    "            if (i == k): \n",
    "                L[i][i] = 1;\n",
    "            else:  \n",
    "                sum = 0; \n",
    "                for j in range(i): \n",
    "                    sum += (L[k][j] * U[j][i]); \n",
    "                L[k][i] = ((A[k][i] - sum) / U[i][i]);\n",
    "    return L,U\n",
    "    \n",
    "B=np.array([[2,-1,-2],[-4,6,3],[-4,-2,8]])\n",
    "doolittleD(B)\n",
    "\n",
    "def choleskyD(A):\n",
    "    n = len(A)\n",
    "    L = np.zeros((n, n))\n",
    "    \n",
    "    for i in range(n):\n",
    "        for k in range(i+1):\n",
    "            tmp_sum = sum(L[i][j] * L[k][j] for j in range(k))\n",
    "            if (i == k):\n",
    "                L[i][k] = np.sqrt(A[i][i] - tmp_sum)\n",
    "            else:\n",
    "                L[i][k] = (1.0 / L[k][k] * (A[i][k] - tmp_sum))\n",
    "    return L,L.T \n",
    "    \n",
    "C=[[4,12,-16],[12,37,-43],[-16,-43,98]]\n",
    "choleskyD(C)\n",
    "print()"
   ]
  },
  {
   "cell_type": "markdown",
   "metadata": {},
   "source": [
    "Dla wszystkich metod była sprawdzona poprawność działania(zadanie 2).  \n",
    "Używamy rozklad (Dane z wykładu) :  \n",
    "- Doolitla i Crouta :  może być wykorzystany dla dowolnej macierzy\n",
    "- Choleskiego : jeśli macierz A układu równań jest macierzą rzeczywistą, symetryczną, dodatnio określoną."
   ]
  },
  {
   "cell_type": "code",
   "execution_count": 81,
   "metadata": {
    "pycharm": {
     "is_executing": false
    }
   },
   "outputs": [
    {
     "name": "stdout",
     "output_type": "stream",
     "text": [
      "Testowanie wydajności dla: \n",
      "\t10 macierz 10 stopnia\n",
      "Rozklad Choleskiego 0.0045032501220703125 s\n",
      "Rozklad Crouta 0.008445024490356445 s\n",
      "Rozklad Doolitle`a 0.0059833526611328125 s\n",
      "\t50 macierz 50 stopnia\n",
      "Rozklad Choleskiego 1.1019177436828613 s\n",
      "Rozklad Crouta 2.074875593185425 s\n",
      "Rozklad Doolitle`a 2.0264482498168945 s\n",
      "\t100 macierz 100 stopnia\n",
      "Rozklad Choleskiego 14.96259593963623 s\n",
      "Rozklad Crouta 31.017005443572998 s\n",
      "Rozklad Doolitle`a 31.730915546417236 s\n"
     ]
    }
   ],
   "source": [
    "def efficiencyTestingCholesky(numberOfMatrixes,matrixDegree):\n",
    "    start=time.time()\n",
    "    for i in range(0,numberOfMatrixes):\n",
    "        generator = check_random_state(random_state)\n",
    "        A = generator.rand(matrixDegree,matrixDegree)\n",
    "        U, s, V = linalg.svd(np.dot(A.T, A))\n",
    "        X = np.dot(np.dot(U, 1.0 + np.diag(generator.rand(matrixDegree))), V)\n",
    "        X=X*100\n",
    "        choleskyD(X)\n",
    "    end=time.time()\n",
    "    print(\"Rozklad Choleskiego\",end-start,\"s\")\n",
    "    \n",
    "def efficiencyTesting(numberOfMatrixes,matrixDegree):\n",
    "    start=time.time()\n",
    "    for i in range(0,numberOfMatrixes):\n",
    "        X=np.random.randint(-100,100,(matrixDegree,matrixDegree))\n",
    "        croutD(X)\n",
    "    end=time.time()\n",
    "    print(\"Rozklad Crouta\",end-start,\"s\")\n",
    "    start=time.time()\n",
    "    for i in range(0,numberOfMatrixes):\n",
    "        X=np.random.randint(-100,100,(matrixDegree,matrixDegree))\n",
    "        doolittleD(X)\n",
    "    end=time.time()\n",
    "    print(\"Rozklad Doolitle`a\",end-start,\"s\")\n",
    "    \n",
    "\n",
    "print(\"Testowanie wydajności dla: \")\n",
    "print(\"\\t10 macierz 10 stopnia\")\n",
    "efficiencyTestingCholesky(10,10)\n",
    "efficiencyTesting(10,10)\n",
    "print(\"\\t50 macierz 50 stopnia\")\n",
    "efficiencyTestingCholesky(50,50)\n",
    "efficiencyTesting(50,50)\n",
    "print(\"\\t100 macierz 100 stopnia\")\n",
    "efficiencyTestingCholesky(100,100)\n",
    "efficiencyTesting(100,100)"
   ]
  },
  {
   "cell_type": "markdown",
   "metadata": {},
   "source": [
    "#### Zadanie 2\n",
    "Zapoznaj się z funkcją rozwiązywania układów równań liniowych dostarczoną przez bibliotekę numpy/scipy. Porównaj jej wydajność z własnymi implementacjami."
   ]
  },
  {
   "cell_type": "code",
   "execution_count": 42,
   "metadata": {},
   "outputs": [
    {
     "name": "stdout",
     "output_type": "stream",
     "text": [
      "Testowania poprawności działania:\n",
      "\t Wyniki otrzymane przy pomocy numpy:\n",
      " [176.66666667 -48.33333333   7.66666667]\n",
      "\t Wyniki otrzymane przy rozkladu Doolitla:\n",
      " [176.66666666666666, -48.333333333333336, 7.666666666666667]\n",
      "\t Wyniki otrzymane przy rozkladu Crouta:\n",
      " [176.66666666666666, -48.333333333333336, 7.666666666666667]\n",
      "\t Wyniki otrzymane przy pomocy rozkładu Choleskyego:\n",
      " [176.66666666666666, -48.333333333333336, 7.666666666666667]\n"
     ]
    }
   ],
   "source": [
    "import numpy as np\n",
    "\n",
    "def solve(L,U,B):\n",
    "    n=len(L)\n",
    "    Y=[None]*n\n",
    "    Y[0]=B[0]/L[0][0]\n",
    "    for i in range(1,n):\n",
    "        s=0\n",
    "        for j in range(0,i):\n",
    "            s+=L[i][j]*Y[j]\n",
    "        Y[i]=(B[i]-s)/L[i][i]\n",
    "        \n",
    "    X=[None]*n\n",
    "\n",
    "    X[n-1]=Y[n-1]/U[n-1][n-1]\n",
    "    for i in range(n-2,-1,-1):\n",
    "        s=0\n",
    "        for j in range(i+1,n):\n",
    "            s+=U[i][j]*X[j]\n",
    "        X[i]=(Y[i]-s)/U[i][i]\n",
    "    return X\n",
    "\n",
    "def npSolve(A,B):\n",
    "    return np.linalg.solve(A, B)\n",
    "\n",
    "A=np.array([[4,12,-16],[12,37,-43],[-16,-43,98]])\n",
    "B=[4,2,3]\n",
    "\n",
    "print(\"Testowania poprawności działania:\")\n",
    "print(\"\\t Wyniki otrzymane przy pomocy numpy:\\n\",npSolve(A,B))\n",
    "L,U=doolittleD(A)\n",
    "print(\"\\t Wyniki otrzymane przy rozkladu Doolitla:\\n\",solve(L,U,B))\n",
    "L,U=croutD(A)\n",
    "print(\"\\t Wyniki otrzymane przy rozkladu Crouta:\\n\",solve(L,U,B))\n",
    "L,U=choleskyD(A)\n",
    "print(\"\\t Wyniki otrzymane przy pomocy rozkładu Choleskyego:\\n\",solve(L,U,B))"
   ]
  },
  {
   "cell_type": "code",
   "execution_count": 57,
   "metadata": {},
   "outputs": [
    {
     "name": "stdout",
     "output_type": "stream",
     "text": [
      "Testowanie wydajności dla: \n",
      "\t10 macierz 10 stopnia\n",
      "Rozwiązanie przy pomocy rozkladu Choleskiego 0.007978677749633789 s\n",
      "Rozwiązanie przy pomocy rozkladu Crouta 0.00997304916381836 s\n",
      "Rozwiązanie przy pomocy rozkladu Doolitla 0.008980035781860352 s\n",
      "Rozwiązanie przy pomocy biblioteki numpy 0.0049855709075927734 s\n",
      "\t50 macierz 50 stopnia\n",
      "Rozwiązanie przy pomocy rozkladu Choleskiego 1.5416815280914307 s\n",
      "Rozwiązanie przy pomocy rozkladu Crouta 2.379384756088257 s\n",
      "Rozwiązanie przy pomocy rozkladu Doolitla 2.2950003147125244 s\n",
      "Rozwiązanie przy pomocy biblioteki numpy 0.503514289855957 s\n",
      "\t100 macierz 100 stopnia\n",
      "Rozwiązanie przy pomocy rozkladu Choleskiego 18.903281688690186 s\n",
      "Rozwiązanie przy pomocy rozkladu Crouta 36.01801252365112 s\n",
      "Rozwiązanie przy pomocy rozkladu Doolitla 34.06443238258362 s\n",
      "Rozwiązanie przy pomocy biblioteki numpy 3.7017428874969482 s\n"
     ]
    }
   ],
   "source": [
    "def generateAB(matrixDegree):\n",
    "    generator = check_random_state(random_state)\n",
    "    A = generator.rand(matrixDegree,matrixDegree)\n",
    "    U, s, V = linalg.svd(np.dot(A.T, A))\n",
    "    A = np.dot(np.dot(U, 1.0 + np.diag(generator.rand(matrixDegree))), V)\n",
    "    A=A*100\n",
    "    X=np.random.randint(-15,15,matrixDegree) \n",
    "    B=[]\n",
    "    for i in range(0,matrixDegree):\n",
    "        numberToAdd=0\n",
    "        for j in range(0,matrixDegree):\n",
    "            numberToAdd+=X[j]*A[i][j]\n",
    "        B.append(numberToAdd)\n",
    "    return A,B\n",
    "\n",
    "def efficiencyTesting(numberOfMatrixes,matrixDegree):\n",
    "    start=time.time()\n",
    "    for i in range(0,numberOfMatrixes):\n",
    "        A,B=generateAB(matrixDegree)\n",
    "        L,U=choleskyD(A)\n",
    "        solve(L,U,B)\n",
    "    end=time.time()\n",
    "    print(\"Rozwiązanie przy pomocy rozkladu Choleskiego\",end-start,\"s\")\n",
    "    \n",
    "    start=time.time()\n",
    "    for i in range(0,numberOfMatrixes):\n",
    "        A,B=generateAB(matrixDegree)\n",
    "        L,U=croutD(A)\n",
    "        solve(L,U,B)\n",
    "    end=time.time()\n",
    "    print(\"Rozwiązanie przy pomocy rozkladu Crouta\",end-start,\"s\")\n",
    "    \n",
    "    start=time.time()\n",
    "    for i in range(0,numberOfMatrixes):\n",
    "        A,B=generateAB(matrixDegree)\n",
    "        L,U=doolittleD(A)\n",
    "        solve(L,U,B)\n",
    "    end=time.time()\n",
    "    print(\"Rozwiązanie przy pomocy rozkladu Doolitla\",end-start,\"s\")\n",
    "    \n",
    "    start=time.time()\n",
    "    for i in range(0,numberOfMatrixes):\n",
    "        A,B=generateAB(matrixDegree)\n",
    "        npSolve(A,B)\n",
    "    end=time.time()\n",
    "    print(\"Rozwiązanie przy pomocy biblioteki numpy\",end-start,\"s\")\n",
    "    \n",
    "    \n",
    "print(\"Testowanie wydajności dla: \")\n",
    "print(\"\\t10 macierz 10 stopnia\")\n",
    "efficiencyTesting(10,10)\n",
    "print(\"\\t50 macierz 50 stopnia\")\n",
    "efficiencyTesting(50,50)\n",
    "print(\"\\t100 macierz 100 stopnia\")\n",
    "efficiencyTesting(100,100)"
   ]
  },
  {
   "cell_type": "markdown",
   "metadata": {},
   "source": [
    "### Wniosek:  \n",
    "Możemy zrobić wniosek, że najsprytniejszą jest metoda zaimplementowana w bibliotece numpy, na drugim miejscu metoda, która wykorzystuje rozkład Choleskiego, ale nie działa ona dla wszystkich układów. Metody wykorzystujące rozkład Crouta i Doolitla działają prawie w tym samym czasie."
   ]
  }
 ],
 "metadata": {
  "kernelspec": {
   "display_name": "Python 3",
   "language": "python",
   "name": "python3"
  },
  "language_info": {
   "codemirror_mode": {
    "name": "ipython",
    "version": 3
   },
   "file_extension": ".py",
   "mimetype": "text/x-python",
   "name": "python",
   "nbconvert_exporter": "python",
   "pygments_lexer": "ipython3",
   "version": "3.7.6"
  },
  "pycharm": {
   "stem_cell": {
    "cell_type": "raw",
    "metadata": {
     "collapsed": false
    },
    "source": [
     "\n"
    ]
   }
  }
 },
 "nbformat": 4,
 "nbformat_minor": 1
}
