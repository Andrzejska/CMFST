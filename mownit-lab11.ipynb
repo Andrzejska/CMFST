{
 "cells": [
  {
   "cell_type": "markdown",
   "metadata": {
    "collapsed": true,
    "pycharm": {
     "name": "#%% md\n"
    }
   },
   "source": [
    "## Rozwiązywanie układów równań liniowych metodami interacyjnymi \n",
    "\n",
    "### Zadanie 1\n",
    "Zaimplementuj metodę Jacobiego. Podaj warunki jej stosowalności. Wygeneruj co najmniej trzy odpowiednie macierze o różnych wielkościach i sprawdź działanie swojej metody. Zwróć uwagę na zbieżność tej metody. \n",
    "\n",
    "### Zadanie 2\n",
    "Zaimplementuj metodę Gaussa-Seidla i kolejnych nadrelaksacji (successive over-relaxation). Podaj warunki stosowalności tych metod. Przeprowadź badanie działania swoich implementacji analogicznie jak w poprzednim zadaniu. Porównaj zbieżność wszystkich trzech metod. \n",
    "\n"
   ]
  },
  {
   "cell_type": "code",
   "execution_count": 10,
   "metadata": {
    "pycharm": {
     "name": "#%%\n"
    }
   },
   "outputs": [
    {
     "name": "stdout",
     "output_type": "stream",
     "text": [
      "Iteration 0: [0. 0. 0. 0.]\n",
      "Iteration 1: [ 0.6         2.27272727 -1.1         1.875     ]\n",
      "Iteration 2: [ 1.04727273  1.71590909 -0.80522727  0.88522727]\n",
      "Iteration 3: [ 0.93263636  2.05330579 -1.04934091  1.13088068]\n",
      "Iteration 4: [ 1.01519876  1.95369576 -0.96810863  0.97384272]\n",
      "Iteration 5: [ 0.9889913   2.01141473 -1.0102859   1.02135051]\n",
      "Iteration 6: [ 1.00319865  1.99224126 -0.99452174  0.99443374]\n",
      "Iteration 7: [ 0.99812847  2.00230688 -1.00197223  1.00359431]\n",
      "Iteration 8: [ 1.00062513  1.9986703  -0.99903558  0.99888839]\n",
      "Iteration 9: [ 0.99967415  2.00044767 -1.00036916  1.00061919]\n",
      "Iteration 10: [ 1.0001186   1.99976795 -0.99982814  0.99978598]\n",
      "Iteration 11: [ 0.99994242  2.00008477 -1.00006833  1.0001085 ]\n",
      "Iteration 12: [ 1.00002214  1.99995896 -0.99996916  0.99995967]\n",
      "Iteration 13: [ 0.99998973  2.00001582 -1.00001257  1.00001924]\n",
      "Iteration 14: [ 1.00000409  1.99999268 -0.99999444  0.9999925 ]\n",
      "Iteration 15: [ 0.99999816  2.00000292 -1.0000023   1.00000344]\n",
      "Iteration 16: [ 1.00000075  1.99999868 -0.99999899  0.99999862]\n",
      "Iteration 17: [ 0.99999967  2.00000054 -1.00000042  1.00000062]\n",
      "Iteration 18: [ 1.00000014  1.99999976 -0.99999982  0.99999975]\n",
      "Iteration 19: [ 0.99999994  2.0000001  -1.00000008  1.00000011]\n",
      "Iteration 20: [ 1.00000003  1.99999996 -0.99999997  0.99999995]\n",
      "Iteration 21: [ 0.99999999  2.00000002 -1.00000001  1.00000002]\n",
      "Iteration 22: [ 1.          1.99999999 -0.99999999  0.99999999]\n",
      "Iteration 23: [ 1.  2. -1.  1.]\n",
      "Iteration 24: [ 1.  2. -1.  1.]\n",
      "Iteration 25: [ 1.  2. -1.  1.]\n",
      "Iteration 26: [ 1.  2. -1.  1.]\n",
      "Iteration 27: [ 1.  2. -1.  1.]\n",
      "Iteration 28: [ 1.  2. -1.  1.]\n"
     ]
    }
   ],
   "source": [
    "import numpy as np\n",
    "\n",
    "def jacobiego(A,B,numberOfIterations):\n",
    "    x = np.zeros_like(B)\n",
    "    \n",
    "    for it_count in range(numberOfIterations):\n",
    "        print(\"Iteration {0}: {1}\".format(it_count, x))\n",
    "        x_new = np.zeros_like(x)\n",
    "        \n",
    "        for i in range(A.shape[0]):\n",
    "            s1 = np.dot(A[i, :i], x[:i])\n",
    "            s2 = np.dot(A[i, i + 1:], x[i + 1:])\n",
    "            x_new[i] = (B[i] - s1 - s2) / A[i, i]\n",
    "        \n",
    "        #Kończymy działanie jeżeli kolejne iteracje nie zmieniają wyniku\n",
    "        if np.allclose(x, x_new, atol=1e-10, rtol=0.):\n",
    "            return x\n",
    "        x = x_new\n",
    "\n",
    "A = np.array([[10., -1., 2., 0.],\n",
    "              [-1., 11., -1., 3.],\n",
    "              [2., -1., 10., -1.],\n",
    "              [0.0, 3., -1., 8.]])\n",
    "\n",
    "B = np.array([6., 25., -11., 15.])\n",
    "jacobiego(A,B,1000)\n",
    "\n"
   ]
  },
  {
   "cell_type": "code",
   "execution_count": 13,
   "metadata": {
    "pycharm": {
     "is_executing": false
    }
   },
   "outputs": [
    {
     "data": {
      "text/plain": [
       "array([ 1.,  2., -1.,  1.])"
      ]
     },
     "execution_count": 13,
     "metadata": {},
     "output_type": "execute_result"
    }
   ],
   "source": [
    "import numpy as np\n",
    "def gaussa_seidla(A,B,numberOfIterations):\n",
    "    x = np.zeros_like(B)\n",
    "    \n",
    "    for it_count in range(numberOfIterations):\n",
    "        print(\"Iteration {0}: {1}\".format(it_count, x))\n",
    "        x_new = np.zeros_like(x)\n",
    "        \n",
    "        for i in range(A.shape[0]):\n",
    "            s1 = np.dot(A[i, :i], x_new[:i])\n",
    "            s2 = np.dot(A[i, i + 1:], x[i + 1:])\n",
    "            x_new[i] = (B[i] - s1 - s2) / A[i, i]\n",
    "            \n",
    "        if np.allclose(x, x_new, rtol=1e-8):\n",
    "            return x\n",
    "        x = x_new\n",
    "\n",
    "#gaussa_seidla(A,B,1000)\n",
    "\n",
    "def over_relaxation(A, B, omega,numberOfIterations):\n",
    "    x_new = np.zeros_like(B)\n",
    "    residual = np.linalg.norm(np.matmul(A, x_new) - B) #Initializacja \n",
    "    for k in range(numberOfIterations):\n",
    "        for i in range(A.shape[0]):\n",
    "            sigma = 0\n",
    "            for j in range(A.shape[1]):\n",
    "                if j != i:\n",
    "                    sigma += A[i][j] * x_new[j]\n",
    "            x_new[i] = (1 - omega) * x_new[i] + (omega / A[i][i]) * (B[i] - sigma)\n",
    "        residual = np.linalg.norm(np.matmul(A, x_new) - B)\n",
    "        if residual<1e-8:\n",
    "            return x_new\n",
    "\n",
    "over_relaxation(A,B,0.5,1000)"
   ]
  },
  {
   "cell_type": "code",
   "execution_count": null,
   "metadata": {},
   "outputs": [],
   "source": []
  }
 ],
 "metadata": {
  "kernelspec": {
   "display_name": "Python 3",
   "language": "python",
   "name": "python3"
  },
  "language_info": {
   "codemirror_mode": {
    "name": "ipython",
    "version": 3
   },
   "file_extension": ".py",
   "mimetype": "text/x-python",
   "name": "python",
   "nbconvert_exporter": "python",
   "pygments_lexer": "ipython3",
   "version": "3.7.6"
  },
  "pycharm": {
   "stem_cell": {
    "cell_type": "raw",
    "metadata": {
     "collapsed": false
    },
    "source": []
   }
  }
 },
 "nbformat": 4,
 "nbformat_minor": 1
}
