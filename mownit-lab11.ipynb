{
 "cells": [
  {
   "cell_type": "markdown",
   "metadata": {
    "collapsed": true,
    "pycharm": {
     "name": "#%% md\n"
    }
   },
   "source": [
    "## Rozwiązywanie układów równań liniowych metodami interacyjnymi \n",
    "\n",
    "### Zadanie 1\n",
    "Zaimplementuj metodę Jacobiego. Podaj warunki jej stosowalności. Wygeneruj co najmniej trzy odpowiednie macierze o różnych wielkościach i sprawdź działanie swojej metody. Zwróć uwagę na zbieżność tej metody. "
   ]
  },
  {
   "cell_type": "code",
   "execution_count": 40,
   "metadata": {
    "pycharm": {
     "name": "#%%\n"
    },
    "scrolled": false
   },
   "outputs": [
    {
     "name": "stdout",
     "output_type": "stream",
     "text": [
      "Wektor rozwiązań\n",
      "[-1  5 11 -8  7]\n",
      "Rozwiązania znalezone przy pomocy metody jacobiego :\n",
      "[-1.  5. 11. -8.  7.]\n",
      "Wektor rozwiązań\n",
      "[  9  -4  -9   6 -11  -8  -4   7 -11 -15]\n",
      "Rozwiązania znalezone przy pomocy metody jacobiego :\n",
      "[  9.  -4.  -9.   6. -11.  -8.  -4.   7. -11. -15.]\n",
      "Wektor rozwiązań\n",
      "[ -8   7 -11   7 -14  -3   8 -14   7   8  -6   5   2  -3]\n",
      "Rozwiązania znalezone przy pomocy metody jacobiego :\n",
      "[ -8.   7. -11.   7. -14.  -3.   8. -14.   7.   8.  -6.   5.   2.  -3.]\n"
     ]
    }
   ],
   "source": [
    "import numpy as np\n",
    "\n",
    "def jacobiego(A,B,numberOfIterations):\n",
    "    x = np.zeros_like(B)\n",
    "    \n",
    "    for it_count in range(numberOfIterations):\n",
    "        x_new = np.zeros_like(x)\n",
    "        \n",
    "        for i in range(A.shape[0]):\n",
    "            s1 = np.dot(A[i, :i], x[:i])\n",
    "            s2 = np.dot(A[i, i + 1:], x[i + 1:])\n",
    "            x_new[i] = (B[i] - s1 - s2) / A[i, i]\n",
    "        \n",
    "        #Kończymy działanie jeżeli kolejne iteracje nie zmieniają wyniku\n",
    "        if np.allclose(x, x_new, atol=1e-10, rtol=0.):\n",
    "            return x\n",
    "        x = x_new\n",
    "\n",
    "\n",
    "def generateEquation(matrixDegree,maxIterations):\n",
    "    #Generujemy macierz A\n",
    "    A = np.zeros((matrixDegree, matrixDegree))\n",
    "    for i in range(matrixDegree):\n",
    "        sum = 0\n",
    "        for j in range(matrixDegree):\n",
    "            if j >= i: \n",
    "                A[i][j] = A[j][i] = np.random.randint(-40,40)\n",
    "            if i != j: \n",
    "                sum += abs(A[i][j])\n",
    "        A[i][i] = sum\n",
    "    #Generujemy wektor rozwiązań \n",
    "    X=np.random.randint(-15,15,matrixDegree)\n",
    "    \n",
    "    #Generujemy wektor wspólczyników wolnych\n",
    "    B=[]\n",
    "    for i in range(0,matrixDegree):\n",
    "        numberToAdd=0\n",
    "        for j in range(0,matrixDegree):\n",
    "            numberToAdd+=X[j]*A[i][j]\n",
    "        B.append(numberToAdd)\n",
    "    return A,X,B\n",
    "        \n",
    "def solveJacobiego(matrixDegree,maxIterations):\n",
    "    A,X,B=generateEquation(matrixDegree,maxIterations)\n",
    "    print(\"Wektor rozwiązań\")\n",
    "    print(X)\n",
    "    print(\"Rozwiązania znalezione przy pomocy metody Jacobiego :\")\n",
    "    print(jacobiego(A, B, maxIterations))\n",
    "\n",
    "solveJacobiego(5,1000)\n",
    "solveJacobiego(10,1000)\n",
    "solveJacobiego(14,1000)"
   ]
  },
  {
   "cell_type": "markdown",
   "metadata": {},
   "source": [
    "**Metoda Jacobiego:** \n",
    "\n",
    "**stosujemy dla A**  \n",
    "* silnie diagonalnie dominujących.  \n",
    "\n",
    "**zbieżna dla A**  \n",
    "* nieredukowalnych,  \n",
    "* silnie diagonalnie dominujących."
   ]
  },
  {
   "cell_type": "markdown",
   "metadata": {},
   "source": [
    "### Zadanie 2\n",
    "Zaimplementuj metodę Gaussa-Seidla i kolejnych nadrelaksacji (successive over-relaxation). Podaj warunki stosowalności tych metod. Przeprowadź badanie działania swoich implementacji analogicznie jak w poprzednim zadaniu. Porównaj zbieżność wszystkich trzech metod. "
   ]
  },
  {
   "cell_type": "code",
   "execution_count": 54,
   "metadata": {
    "pycharm": {
     "is_executing": false
    }
   },
   "outputs": [
    {
     "name": "stdout",
     "output_type": "stream",
     "text": [
      "Wektor rozwiązań\n",
      "[ 2  1  8 -8 -5]\n",
      "Rozwiązania znalezone przy pomocy metody Gaussa-Seidla :\n",
      "[ 2.00000003  0.99999998  8.00000001 -7.99999998 -4.99999999]\n",
      "Rozwiązania znalezone przy pomocy  kolejnych nadrelaksacji:\n",
      "[ 2.  1.  8. -8. -5.]\n",
      "Wektor rozwiązań\n",
      "[  4  13  -2 -10  -8  12  -9 -13 -13  12]\n",
      "Rozwiązania znalezone przy pomocy metody Gaussa-Seidla :\n",
      "[  4.          12.99999996  -2.00000003  -9.99999997  -7.99999997\n",
      "  12.00000001  -8.99999999 -12.99999997 -13.00000002  11.99999999]\n",
      "Rozwiązania znalezone przy pomocy  kolejnych nadrelaksacji:\n",
      "[  4.  13.  -2. -10.  -8.  12.  -9. -13. -13.  12.]\n",
      "Wektor rozwiązań\n",
      "[-12  11   3 -14   1   5   2  -2  10  -8   9   9 -14   4]\n",
      "Rozwiązania znalezone przy pomocy metody Gaussa-Seidla :\n",
      "[-12.00000002  11.00000002   3.00000001 -13.99999998   1.00000002\n",
      "   4.99999999   2.00000003  -2.00000001   9.99999999  -7.99999998\n",
      "   8.99999999   9.         -14.00000001   3.99999999]\n",
      "Rozwiązania znalezone przy pomocy  kolejnych nadrelaksacji:\n",
      "[-12.  11.   3. -14.   1.   5.   2.  -2.  10.  -8.   9.   9. -14.   4.]\n"
     ]
    }
   ],
   "source": [
    "import numpy as np\n",
    "def gaussaSeidla(A,B,numberOfIterations):\n",
    "    x = np.zeros_like(B)\n",
    "    \n",
    "    for it_count in range(numberOfIterations):\n",
    "        x_new = np.zeros_like(x)\n",
    "        \n",
    "        for i in range(A.shape[0]):\n",
    "            s1 = np.dot(A[i, :i], x_new[:i])\n",
    "            s2 = np.dot(A[i, i + 1:], x[i + 1:])\n",
    "            x_new[i] = (B[i] - s1 - s2) / A[i, i]\n",
    "            \n",
    "        if np.allclose(x, x_new, rtol=1e-8):\n",
    "            return x\n",
    "        x = x_new\n",
    "\n",
    "\n",
    "def overRelaxation(A, B, omega,numberOfIterations):\n",
    "    x_new = np.zeros_like(B)\n",
    "    residual = np.linalg.norm(np.matmul(A, x_new) - B) #Initializacja \n",
    "    for k in range(numberOfIterations):\n",
    "        for i in range(A.shape[0]):\n",
    "            sigma = 0\n",
    "            for j in range(A.shape[1]):\n",
    "                if j != i:\n",
    "                    sigma += A[i][j] * x_new[j]\n",
    "            x_new[i] = (1 - omega) * x_new[i] + (omega / A[i][i]) * (B[i] - sigma)\n",
    "        residual = np.linalg.norm(np.matmul(A, x_new) - B)\n",
    "        if residual < 1e-8:\n",
    "            return x_new\n",
    "    return x_new\n",
    "\n",
    "def solveGSOR(matrixDegree,maxIterations,omega):\n",
    "    A,X,B=generateEquation(matrixDegree,maxIterations)\n",
    "    print(\"Wektor rozwiązań\")\n",
    "    print(X)\n",
    "    print(\"Rozwiązania znalezione przy pomocy metody Gaussa-Seidla :\")\n",
    "    print(gaussaSeidla(A, B, maxIterations))\n",
    "    print(\"Rozwiązania znalezione przy pomocy kolejnych nadrelaksacji:\")\n",
    "    print(overRelaxation(A,B,omega,maxIterations))\n",
    "    \n",
    "solveGSOR(5,1000,0.5)\n",
    "solveGSOR(10,1000,0.5)\n",
    "solveGSOR(14,1000,0.5)"
   ]
  },
  {
   "cell_type": "markdown",
   "metadata": {},
   "source": [
    "**Metoda Gaussa Seidla:**\n",
    " \n",
    "**zbieżna dla A:**  \n",
    "* silnie diagonalnie dominujących wierszowo, kolumnowo,  \n",
    "* symetrycznych,  \n",
    "* dodatnio określonych  \n",
    "\n",
    "**Metoda kolejnych nadrelaksacji** - jest zmodyfikowaną metodą Gaussa-Seidela \n",
    "\n",
    "**zbieżna dla A:**\n",
    "* kiedy parametr omega należy do przedziału (0, 2)"
   ]
  },
  {
   "cell_type": "code",
   "execution_count": 64,
   "metadata": {},
   "outputs": [
    {
     "name": "stdout",
     "output_type": "stream",
     "text": [
      "Ilość iteracji dla macierzy stopnia 5 :\n",
      "\tMetoda Jacobiego 105\n",
      "\tMetoda Gaussa-Seidla  28\n",
      "\tMetoda kolejnych nadrelaksacji  131\n",
      "Ilość iteracji dla macierzy stopnia 50 :\n",
      "\tMetoda Jacobiego 21\n",
      "\tMetoda Gaussa-Seidla  9\n",
      "\tMetoda kolejnych nadrelaksacji  56\n",
      "Ilość iteracji dla macierzy stopnia 100 :\n",
      "\tMetoda Jacobiego 17\n",
      "\tMetoda Gaussa-Seidla  8\n",
      "\tMetoda kolejnych nadrelaksacji  54\n"
     ]
    }
   ],
   "source": [
    "def jacobiegoI(A,B,numberOfIterations):\n",
    "    x = np.zeros_like(B)\n",
    "    \n",
    "    for it_count in range(numberOfIterations):\n",
    "        x_new = np.zeros_like(x)\n",
    "        \n",
    "        for i in range(A.shape[0]):\n",
    "            s1 = np.dot(A[i, :i], x[:i])\n",
    "            s2 = np.dot(A[i, i + 1:], x[i + 1:])\n",
    "            x_new[i] = (B[i] - s1 - s2) / A[i, i]\n",
    "        \n",
    "        #Kończymy działanie jeżeli kolejne iteracje nie zmieniają wyniku\n",
    "        if np.allclose(x, x_new, atol=1e-10, rtol=0.):\n",
    "            return it_count\n",
    "        x = x_new\n",
    "\n",
    "def gaussaSeidlaI(A,B,numberOfIterations):\n",
    "    x = np.zeros_like(B)\n",
    "    \n",
    "    for it_count in range(numberOfIterations):\n",
    "        x_new = np.zeros_like(x)\n",
    "        \n",
    "        for i in range(A.shape[0]):\n",
    "            s1 = np.dot(A[i, :i], x_new[:i])\n",
    "            s2 = np.dot(A[i, i + 1:], x[i + 1:])\n",
    "            x_new[i] = (B[i] - s1 - s2) / A[i, i]\n",
    "        if np.allclose(x, x_new, rtol=1e-8):\n",
    "            return it_count\n",
    "        x = x_new\n",
    "\n",
    "\n",
    "def overRelaxationI(A, B, omega,numberOfIterations):\n",
    "    x_new = np.zeros_like(B)\n",
    "    residual = np.linalg.norm(np.matmul(A, x_new) - B) #Initializacja \n",
    "    for k in range(numberOfIterations):\n",
    "        for i in range(A.shape[0]):\n",
    "            sigma = 0\n",
    "            for j in range(A.shape[1]):\n",
    "                if j != i:\n",
    "                    sigma += A[i][j] * x_new[j]\n",
    "            x_new[i] = (1 - omega) * x_new[i] + (omega / A[i][i]) * (B[i] - sigma)\n",
    "        residual = np.linalg.norm(np.matmul(A, x_new) - B)\n",
    "        if residual < 1e-8:\n",
    "            return k\n",
    "    return numberOfIterations\n",
    "\n",
    "def compareIterations(matrixDegree,maxIterations,omega):\n",
    "    A,X,B=generateEquation(matrixDegree,maxIterations)\n",
    "    print(\"Ilość iteracji dla macierzy stopnia\",matrixDegree,\":\")\n",
    "    print(\"\\tMetoda Jacobiego\" ,jacobiegoI(A,B,maxIterations))\n",
    "    print(\"\\tMetoda Gaussa-Seidla \",gaussaSeidlaI(A, B, maxIterations))\n",
    "    print(\"\\tMetoda kolejnych nadrelaksacji \",overRelaxationI(A,B,omega,maxIterations))\n",
    "    \n",
    "compareIterations(5,1000,0.5)\n",
    "compareIterations(50,1000,0.5)\n",
    "compareIterations(100,1000,0.5)\n"
   ]
  }
 ],
 "metadata": {
  "kernelspec": {
   "display_name": "Python 3",
   "language": "python",
   "name": "python3"
  },
  "language_info": {
   "codemirror_mode": {
    "name": "ipython",
    "version": 3
   },
   "file_extension": ".py",
   "mimetype": "text/x-python",
   "name": "python",
   "nbconvert_exporter": "python",
   "pygments_lexer": "ipython3",
   "version": "3.7.6"
  },
  "pycharm": {
   "stem_cell": {
    "cell_type": "raw",
    "metadata": {
     "collapsed": false
    },
    "source": []
   }
  }
 },
 "nbformat": 4,
 "nbformat_minor": 1
}
