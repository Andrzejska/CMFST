{
 "cells": [
  {
   "cell_type": "markdown",
   "metadata": {
    "collapsed": true,
    "pycharm": {
     "name": "#%% md\n"
    }
   },
   "source": [
    "## Rozwiązywanie układów równań liniowych metodami interacyjnymi \n",
    "\n",
    "### Zadanie 1\n",
    "Zaimplementuj metodę Jacobiego. Podaj warunki jej stosowalności. Wygeneruj co najmniej trzy odpowiednie macierze o różnych wielkościach i sprawdź działanie swojej metody. Zwróć uwagę na zbieżność tej metody. "
   ]
  },
  {
   "cell_type": "code",
   "execution_count": 66,
   "metadata": {
    "pycharm": {
     "name": "#%%\n"
    },
    "scrolled": false
   },
   "outputs": [
    {
     "name": "stdout",
     "output_type": "stream",
     "text": [
      "Wektor rozwiązań\n",
      "[ -8 -11   6   7  -7]\n",
      "Rozwiązania znalezione przy pomocy metody Jacobiego :\n",
      "[ -8. -11.   6.   7.  -7.]\n",
      "Wektor rozwiązań\n",
      "[  1  -3   8  12  -5  -6   4 -12   3   3]\n",
      "Rozwiązania znalezione przy pomocy metody Jacobiego :\n",
      "[  1.  -3.   8.  12.  -5.  -6.   4. -12.   3.   3.]\n",
      "Wektor rozwiązań\n",
      "[  6  -5  -9  14  -6  -7  -1  -6 -11  -2  10 -15 -10 -12]\n",
      "Rozwiązania znalezione przy pomocy metody Jacobiego :\n",
      "[  6.  -5.  -9.  14.  -6.  -7.  -1.  -6. -11.  -2.  10. -15. -10. -12.]\n"
     ]
    }
   ],
   "source": [
    "import numpy as np\n",
    "\n",
    "def jacobiego(A,B,numberOfIterations):\n",
    "    x = np.zeros_like(B)\n",
    "    \n",
    "    for it_count in range(numberOfIterations):\n",
    "        x_new = np.zeros_like(x)\n",
    "        \n",
    "        for i in range(A.shape[0]):\n",
    "            s1 = np.dot(A[i, :i], x[:i])\n",
    "            s2 = np.dot(A[i, i + 1:], x[i + 1:])\n",
    "            x_new[i] = (B[i] - s1 - s2) / A[i, i]\n",
    "        \n",
    "        #Kończymy działanie jeżeli kolejne iteracje nie zmieniają wyniku\n",
    "        if np.allclose(x, x_new, atol=1e-10, rtol=0.):\n",
    "            return x\n",
    "        x = x_new\n",
    "\n",
    "\n",
    "def generateEquation(matrixDegree,maxIterations):\n",
    "    #Generujemy macierz A\n",
    "    A = np.zeros((matrixDegree, matrixDegree))\n",
    "    for i in range(matrixDegree):\n",
    "        sum = 0\n",
    "        for j in range(matrixDegree):\n",
    "            if j >= i: \n",
    "                A[i][j] = A[j][i] = np.random.randint(-40,40)\n",
    "            if i != j: \n",
    "                sum += abs(A[i][j])\n",
    "        A[i][i] = sum\n",
    "    #Generujemy wektor rozwiązań \n",
    "    X=np.random.randint(-15,15,matrixDegree)\n",
    "    \n",
    "    #Generujemy wektor wspólczyników wolnych\n",
    "    B=[]\n",
    "    for i in range(0,matrixDegree):\n",
    "        numberToAdd=0\n",
    "        for j in range(0,matrixDegree):\n",
    "            numberToAdd+=X[j]*A[i][j]\n",
    "        B.append(numberToAdd)\n",
    "    return A,X,B\n",
    "        \n",
    "def solveJacobiego(matrixDegree,maxIterations):\n",
    "    A,X,B=generateEquation(matrixDegree,maxIterations)\n",
    "    print(\"Wektor rozwiązań\")\n",
    "    print(X)\n",
    "    print(\"Rozwiązania znalezione przy pomocy metody Jacobiego :\")\n",
    "    print(jacobiego(A, B, maxIterations))\n",
    "\n",
    "solveJacobiego(5,1000)\n",
    "solveJacobiego(10,1000)\n",
    "solveJacobiego(14,1000)"
   ]
  },
  {
   "cell_type": "markdown",
   "metadata": {},
   "source": [
    "**Metoda Jacobiego:** \n",
    "\n",
    "**stosujemy dla A**  \n",
    "* silnie diagonalnie dominujących.  \n",
    "\n",
    "**zbieżna dla A**  \n",
    "* nieredukowalnych,  \n",
    "* silnie diagonalnie dominujących."
   ]
  },
  {
   "cell_type": "markdown",
   "metadata": {},
   "source": [
    "### Zadanie 2\n",
    "Zaimplementuj metodę Gaussa-Seidla i kolejnych nadrelaksacji (successive over-relaxation). Podaj warunki stosowalności tych metod. Przeprowadź badanie działania swoich implementacji analogicznie jak w poprzednim zadaniu. Porównaj zbieżność wszystkich trzech metod. "
   ]
  },
  {
   "cell_type": "code",
   "execution_count": 75,
   "metadata": {
    "pycharm": {
     "is_executing": false
    }
   },
   "outputs": [
    {
     "name": "stdout",
     "output_type": "stream",
     "text": [
      "Wektor rozwiązań\n",
      "[-12  11   1  -6   7]\n",
      "Rozwiązania znalezione przy pomocy metody Gaussa-Seidla :\n",
      "[-12.00000004  10.99999996   0.99999998  -6.           7.00000002]\n",
      "Rozwiązania znalezione przy pomocy kolejnych nadrelaksacji:\n",
      "[-12.  11.   1.  -6.   7.]\n",
      "Wektor rozwiązań\n",
      "[  3 -12   4  -9  -9  -5  -5  10  14  -7]\n",
      "Rozwiązania znalezione przy pomocy metody Gaussa-Seidla :\n",
      "[  3.00000004 -12.00000008   4.          -8.99999991  -9.00000004\n",
      "  -5.00000008  -5.00000004   9.99999996  13.99999998  -7.00000004]\n",
      "Rozwiązania znalezione przy pomocy kolejnych nadrelaksacji:\n",
      "[  3. -12.   4.  -9.  -9.  -5.  -5.  10.  14.  -7.]\n",
      "Wektor rozwiązań\n",
      "[  2   6  -5  -7   8 -11   9 -15  -7  -9 -14 -15   5   1]\n",
      "Rozwiązania znalezione przy pomocy metody Gaussa-Seidla :\n",
      "[  2.00000003   5.99999998  -5.00000002  -7.00000002   7.99999999\n",
      " -10.99999999   9.00000001 -14.99999999  -6.99999999  -9.00000001\n",
      " -14.00000001 -14.99999999   5.           1.        ]\n",
      "Rozwiązania znalezione przy pomocy kolejnych nadrelaksacji:\n",
      "[  2.   6.  -5.  -7.   8. -11.   9. -15.  -7.  -9. -14. -15.   5.   1.]\n"
     ]
    }
   ],
   "source": [
    "import numpy as np\n",
    "def gaussaSeidla(A,B,numberOfIterations):\n",
    "    x = np.zeros_like(B)\n",
    "    \n",
    "    for it_count in range(numberOfIterations):\n",
    "        x_new = np.zeros_like(x)\n",
    "        \n",
    "        for i in range(A.shape[0]):\n",
    "            s1 = np.dot(A[i, :i], x_new[:i])\n",
    "            s2 = np.dot(A[i, i + 1:], x[i + 1:])\n",
    "            x_new[i] = (B[i] - s1 - s2) / A[i, i]\n",
    "            \n",
    "        if np.allclose(x, x_new, rtol=1e-8):\n",
    "            return x\n",
    "        x = x_new\n",
    "\n",
    "\n",
    "def overRelaxation(A, B, omega,numberOfIterations):\n",
    "    x_new = np.zeros_like(B)\n",
    "    residual = np.linalg.norm(np.matmul(A, x_new) - B) #Initializacja \n",
    "    for k in range(numberOfIterations):\n",
    "        for i in range(A.shape[0]):\n",
    "            sigma = 0\n",
    "            for j in range(A.shape[1]):\n",
    "                if j != i:\n",
    "                    sigma += A[i][j] * x_new[j]\n",
    "            x_new[i] = (1 - omega) * x_new[i] + (omega / A[i][i]) * (B[i] - sigma)\n",
    "        residual = np.linalg.norm(np.matmul(A, x_new) - B)\n",
    "        if residual < 1e-8:\n",
    "            return x_new\n",
    "    return x_new\n",
    "\n",
    "def solveGSOR(matrixDegree,maxIterations,omega):\n",
    "    A,X,B=generateEquation(matrixDegree,maxIterations)\n",
    "    print(\"Wektor rozwiązań\")\n",
    "    print(X)\n",
    "    print(\"Rozwiązania znalezione przy pomocy metody Gaussa-Seidla :\")\n",
    "    print(gaussaSeidla(A, B, maxIterations))\n",
    "    print(\"Rozwiązania znalezione przy pomocy kolejnych nadrelaksacji:\")\n",
    "    print(overRelaxation(A,B,omega,maxIterations))\n",
    "    \n",
    "solveGSOR(5,1000,0.5)\n",
    "solveGSOR(10,1000,0.5)\n",
    "solveGSOR(14,1000,0.5)"
   ]
  },
  {
   "cell_type": "markdown",
   "metadata": {},
   "source": [
    "**Metoda Gaussa Seidla:**\n",
    " \n",
    "**zbieżna dla A:**  \n",
    "* silnie diagonalnie dominujących wierszowo, kolumnowo,  \n",
    "* symetrycznych,  \n",
    "* dodatnio określonych  \n",
    "\n",
    "**Metoda kolejnych nadrelaksacji** - jest zmodyfikowaną metodą Gaussa-Seidela \n",
    "\n",
    "**zbieżna dla A:**\n",
    "* kiedy parametr omega należy do przedziału (0, 2)"
   ]
  },
  {
   "cell_type": "code",
   "execution_count": 76,
   "metadata": {},
   "outputs": [
    {
     "name": "stdout",
     "output_type": "stream",
     "text": [
      "Ilość iteracji dla macierzy stopnia 5 :\n",
      "\tMetoda Jacobiego 104\n",
      "\tMetoda Gaussa-Seidla  26\n",
      "\tMetoda kolejnych nadrelaksacji  119\n",
      "Ilość iteracji dla macierzy stopnia 50 :\n",
      "\tMetoda Jacobiego 24\n",
      "\tMetoda Gaussa-Seidla  10\n",
      "\tMetoda kolejnych nadrelaksacji  58\n",
      "Ilość iteracji dla macierzy stopnia 100 :\n",
      "\tMetoda Jacobiego 17\n",
      "\tMetoda Gaussa-Seidla  8\n",
      "\tMetoda kolejnych nadrelaksacji  53\n"
     ]
    }
   ],
   "source": [
    "def jacobiegoI(A,B,numberOfIterations):\n",
    "    x = np.zeros_like(B)\n",
    "    \n",
    "    for it_count in range(numberOfIterations):\n",
    "        x_new = np.zeros_like(x)\n",
    "        \n",
    "        for i in range(A.shape[0]):\n",
    "            s1 = np.dot(A[i, :i], x[:i])\n",
    "            s2 = np.dot(A[i, i + 1:], x[i + 1:])\n",
    "            x_new[i] = (B[i] - s1 - s2) / A[i, i]\n",
    "        \n",
    "        #Kończymy działanie jeżeli kolejne iteracje nie zmieniają wyniku\n",
    "        if np.allclose(x, x_new, atol=1e-10, rtol=0.):\n",
    "            return it_count\n",
    "        x = x_new\n",
    "\n",
    "def gaussaSeidlaI(A,B,numberOfIterations):\n",
    "    x = np.zeros_like(B)\n",
    "    \n",
    "    for it_count in range(numberOfIterations):\n",
    "        x_new = np.zeros_like(x)\n",
    "        \n",
    "        for i in range(A.shape[0]):\n",
    "            s1 = np.dot(A[i, :i], x_new[:i])\n",
    "            s2 = np.dot(A[i, i + 1:], x[i + 1:])\n",
    "            x_new[i] = (B[i] - s1 - s2) / A[i, i]\n",
    "        if np.allclose(x, x_new, rtol=1e-8):\n",
    "            return it_count\n",
    "        x = x_new\n",
    "\n",
    "\n",
    "def overRelaxationI(A, B, omega,numberOfIterations):\n",
    "    x_new = np.zeros_like(B)\n",
    "    residual = np.linalg.norm(np.matmul(A, x_new) - B) #Initializacja \n",
    "    for k in range(numberOfIterations):\n",
    "        for i in range(A.shape[0]):\n",
    "            sigma = 0\n",
    "            for j in range(A.shape[1]):\n",
    "                if j != i:\n",
    "                    sigma += A[i][j] * x_new[j]\n",
    "            x_new[i] = (1 - omega) * x_new[i] + (omega / A[i][i]) * (B[i] - sigma)\n",
    "        residual = np.linalg.norm(np.matmul(A, x_new) - B)\n",
    "        if residual < 1e-8:\n",
    "            return k\n",
    "    return numberOfIterations\n",
    "\n",
    "def compareIterations(matrixDegree,maxIterations,omega):\n",
    "    A,X,B=generateEquation(matrixDegree,maxIterations)\n",
    "    print(\"Ilość iteracji dla macierzy stopnia\",matrixDegree,\":\")\n",
    "    print(\"\\tMetoda Jacobiego\" ,jacobiegoI(A,B,maxIterations))\n",
    "    print(\"\\tMetoda Gaussa-Seidla \",gaussaSeidlaI(A, B, maxIterations))\n",
    "    print(\"\\tMetoda kolejnych nadrelaksacji \",overRelaxationI(A,B,omega,maxIterations))\n",
    "    \n",
    "compareIterations(5,1000,0.5)\n",
    "compareIterations(50,1000,0.5)\n",
    "compareIterations(100,1000,0.5)\n"
   ]
  },
  {
   "cell_type": "code",
   "execution_count": null,
   "metadata": {},
   "outputs": [],
   "source": []
  }
 ],
 "metadata": {
  "kernelspec": {
   "display_name": "Python 3",
   "language": "python",
   "name": "python3"
  },
  "language_info": {
   "codemirror_mode": {
    "name": "ipython",
    "version": 3
   },
   "file_extension": ".py",
   "mimetype": "text/x-python",
   "name": "python",
   "nbconvert_exporter": "python",
   "pygments_lexer": "ipython3",
   "version": "3.7.6"
  },
  "pycharm": {
   "stem_cell": {
    "cell_type": "raw",
    "metadata": {
     "collapsed": false
    },
    "source": []
   }
  }
 },
 "nbformat": 4,
 "nbformat_minor": 1
}
