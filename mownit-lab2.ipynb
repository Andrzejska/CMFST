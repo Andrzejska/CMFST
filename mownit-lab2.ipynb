{
 "cells": [
  {
   "cell_type": "markdown",
   "metadata": {},
   "source": [
    "## Algebra liniowa - biblioteki numeryczne \n",
    "W środowisku języka Python dostępne są dwie biblioteki numeryczne numpy i scipy. Dokumentacja: https://numpy.org/doc/, https://docs.scipy.org/doc/. Znajdź informacje wyjaśniające różnice między tymi bibliotekami. \n",
    "\n",
    "### Zadanie 1\n",
    "Napisz krótki program, który wyświetli informację o wersji biblioteki oraz jej konfiguracji. Zwróć uwagę z jakich bibliotek numerycznych korzystają biblioteki Python'a"
   ]
  },
  {
   "cell_type": "code",
   "execution_count": 1,
   "metadata": {
    "pycharm": {
     "name": "#%%\n"
    }
   },
   "outputs": [
    {
     "name": "stdout",
     "output_type": "stream",
     "text": [
      "Numpy library version :  1.18.1 \n",
      " Numpy config : \n",
      "blas_mkl_info:\n",
      "  NOT AVAILABLE\n",
      "blis_info:\n",
      "  NOT AVAILABLE\n",
      "openblas_info:\n",
      "    library_dirs = ['C:\\\\projects\\\\numpy-wheels\\\\numpy\\\\build\\\\openblas_info']\n",
      "    libraries = ['openblas_info']\n",
      "    language = f77\n",
      "    define_macros = [('HAVE_CBLAS', None)]\n",
      "blas_opt_info:\n",
      "    library_dirs = ['C:\\\\projects\\\\numpy-wheels\\\\numpy\\\\build\\\\openblas_info']\n",
      "    libraries = ['openblas_info']\n",
      "    language = f77\n",
      "    define_macros = [('HAVE_CBLAS', None)]\n",
      "lapack_mkl_info:\n",
      "  NOT AVAILABLE\n",
      "openblas_lapack_info:\n",
      "    library_dirs = ['C:\\\\projects\\\\numpy-wheels\\\\numpy\\\\build\\\\openblas_lapack_info']\n",
      "    libraries = ['openblas_lapack_info']\n",
      "    language = f77\n",
      "    define_macros = [('HAVE_CBLAS', None)]\n",
      "lapack_opt_info:\n",
      "    library_dirs = ['C:\\\\projects\\\\numpy-wheels\\\\numpy\\\\build\\\\openblas_lapack_info']\n",
      "    libraries = ['openblas_lapack_info']\n",
      "    language = f77\n",
      "    define_macros = [('HAVE_CBLAS', None)]\n",
      "None\n"
     ]
    }
   ],
   "source": [
    "import numpy as np\n",
    "print(\"Numpy library version : \",np.__version__,\"\\n\",\"Numpy config : \")\n",
    "print(np.show_config())"
   ]
  },
  {
   "cell_type": "code",
   "execution_count": 22,
   "metadata": {
    "pycharm": {
     "name": "#%%\n"
    }
   },
   "outputs": [
    {
     "name": "stdout",
     "output_type": "stream",
     "text": [
      "Scipy library version :  1.4.1\n",
      "lapack_mkl_info:\n",
      "  NOT AVAILABLE\n",
      "openblas_lapack_info:\n",
      "    library_dirs = ['C:\\\\projects\\\\scipy-wheels\\\\scipy\\\\build\\\\openblas']\n",
      "    libraries = ['openblas']\n",
      "    language = f77\n",
      "    define_macros = [('HAVE_CBLAS', None)]\n",
      "lapack_opt_info:\n",
      "    library_dirs = ['C:\\\\projects\\\\scipy-wheels\\\\scipy\\\\build\\\\openblas']\n",
      "    libraries = ['openblas']\n",
      "    language = f77\n",
      "    define_macros = [('HAVE_CBLAS', None)]\n",
      "blas_mkl_info:\n",
      "  NOT AVAILABLE\n",
      "blis_info:\n",
      "  NOT AVAILABLE\n",
      "openblas_info:\n",
      "    library_dirs = ['C:\\\\projects\\\\scipy-wheels\\\\scipy\\\\build\\\\openblas']\n",
      "    libraries = ['openblas']\n",
      "    language = f77\n",
      "    define_macros = [('HAVE_CBLAS', None)]\n",
      "blas_opt_info:\n",
      "    library_dirs = ['C:\\\\projects\\\\scipy-wheels\\\\scipy\\\\build\\\\openblas']\n",
      "    libraries = ['openblas']\n",
      "    language = f77\n",
      "    define_macros = [('HAVE_CBLAS', None)]\n",
      "None\n"
     ]
    }
   ],
   "source": [
    "import scipy as scp\n",
    "print(\"Scipy library version : \",scp.__version__,)\n",
    "print(scp.show_config())"
   ]
  },
  {
   "cell_type": "markdown",
   "metadata": {},
   "source": [
    "[ NumPy służy jako szkielet dla wielu innych bibliotek numerycznych, zwłaszcza scipy ]"
   ]
  },
  {
   "cell_type": "markdown",
   "metadata": {},
   "source": [
    "### Zadanie 2 \n",
    "Napisz program, który wyświetla wbudowaną pomoc dla funkcji: dodawanie wektorów."
   ]
  },
  {
   "cell_type": "code",
   "execution_count": 23,
   "metadata": {
    "pycharm": {
     "name": "#%%\n"
    }
   },
   "outputs": [
    {
     "name": "stdout",
     "output_type": "stream",
     "text": [
      "add(x1, x2, /, out=None, *, where=True, casting='same_kind', order='K', dtype=None, subok=True[, signature, extobj])\n",
      "\n",
      "Add arguments element-wise.\n",
      "\n",
      "Parameters\n",
      "----------\n",
      "x1, x2 : array_like\n",
      "    The arrays to be added. If ``x1.shape != x2.shape``, they must be broadcastable to a common shape (which becomes the shape of the output).\n",
      "out : ndarray, None, or tuple of ndarray and None, optional\n",
      "    A location into which the result is stored. If provided, it must have\n",
      "    a shape that the inputs broadcast to. If not provided or None,\n",
      "    a freshly-allocated array is returned. A tuple (possible only as a\n",
      "    keyword argument) must have length equal to the number of outputs.\n",
      "where : array_like, optional\n",
      "    This condition is broadcast over the input. At locations where the\n",
      "    condition is True, the `out` array will be set to the ufunc result.\n",
      "    Elsewhere, the `out` array will retain its original value.\n",
      "    Note that if an uninitialized `out` array is created via the default\n",
      "    ``out=None``, locations within it where the condition is False will\n",
      "    remain uninitialized.\n",
      "**kwargs\n",
      "    For other keyword-only arguments, see the\n",
      "    :ref:`ufunc docs <ufuncs.kwargs>`.\n",
      "\n",
      "Returns\n",
      "-------\n",
      "add : ndarray or scalar\n",
      "    The sum of `x1` and `x2`, element-wise.\n",
      "    This is a scalar if both `x1` and `x2` are scalars.\n",
      "\n",
      "Notes\n",
      "-----\n",
      "Equivalent to `x1` + `x2` in terms of array broadcasting.\n",
      "\n",
      "Examples\n",
      "--------\n",
      ">>> np.add(1.0, 4.0)\n",
      "5.0\n",
      ">>> x1 = np.arange(9.0).reshape((3, 3))\n",
      ">>> x2 = np.arange(3.0)\n",
      ">>> np.add(x1, x2)\n",
      "array([[  0.,   2.,   4.],\n",
      "       [  3.,   5.,   7.],\n",
      "       [  6.,   8.,  10.]])\n"
     ]
    }
   ],
   "source": [
    "import numpy as np\n",
    "print(np.add.__doc__)"
   ]
  },
  {
   "cell_type": "markdown",
   "metadata": {},
   "source": [
    "### Zadanie 3\n",
    "Napisz programy, które testują wektory danych pod kątem obecności elementów zerowych lub nieskończonych (sprawdź różne warianty takich funkcji). \n",
    "Napisz program porównujące wektory i macierze (według wartości elementów)."
   ]
  },
  {
   "cell_type": "code",
   "execution_count": 75,
   "metadata": {
    "pycharm": {
     "is_executing": false,
     "name": "#%%\n"
    }
   },
   "outputs": [
    {
     "name": "stdout",
     "output_type": "stream",
     "text": [
      "Infinity occur in the vector\n",
      "Zero occur in the vector\n",
      "Arrays are not equal\n",
      "None\n"
     ]
    }
   ],
   "source": [
    "a = np.array([-np.inf, 2, 1, 0, 2, -1, 3.14, 8, 1])\n",
    "b = np.array([0,3]);\n",
    "c = np.array([0,3,2]);\n",
    "if np.isinf(a).any() : print(\"Infinity occur in the vector\")\n",
    "else :print(\"There is no infinity \")\n",
    "if 0 in a :print(\"Zero occur in the vector\")\n",
    "else : print(\"There is no zero \")\n",
    "\n",
    "def are_vectors_equal(first,second):\n",
    "    if len(first)!=len(second) :\n",
    "        print(\"Arrays are not equal\") \n",
    "        return\n",
    "    for i in range(len(first)):\n",
    "        if first[i]!=second[i] :\n",
    "            print(\"Arrays are not equal\");\n",
    "            return;\n",
    "    print(\"Arrays are equal!\");\n",
    "    \n",
    "print(are_vectors_equal(b,c));"
   ]
  },
  {
   "cell_type": "markdown",
   "metadata": {},
   "source": [
    "### Zadanie 4 \n",
    "Napisz program, który wylicza ile danych w bajtach zajmuje wektor lub macierz\n"
   ]
  },
  {
   "cell_type": "code",
   "execution_count": 76,
   "metadata": {
    "pycharm": {
     "name": "#%%\n"
    }
   },
   "outputs": [
    {
     "name": "stdout",
     "output_type": "stream",
     "text": [
      "80 bytes\n"
     ]
    }
   ],
   "source": [
    "n = np.array([-np.inf,np.float16(2.5), 2, 1, 0, 2, -1, 3.14, 8, 1])\n",
    "sum=0;\n",
    "for x in np.nditer(n):\n",
    "    sum = sum+x.itemsize\n",
    "print(\"%d bytes\" %sum)"
   ]
  },
  {
   "cell_type": "markdown",
   "metadata": {},
   "source": [
    "### Zadanie 5\n",
    "Napisz kilka programów, które demonstrują jak można w numpy tworzyć wektory i macierze wypełnione różnymi danymi lub mającymi pewną szczególną postać, np. , danymi losowymi, danymi z podanego zakresy, macierze identyczności, ... "
   ]
  },
  {
   "cell_type": "code",
   "execution_count": 73,
   "metadata": {
    "pycharm": {
     "name": "#%%\n"
    }
   },
   "outputs": [
    {
     "name": "stdout",
     "output_type": "stream",
     "text": [
      "Matrix filled with zero : \n",
      "[[0 0 0 0 0]\n",
      " [0 0 0 0 0]\n",
      " [0 0 0 0 0]\n",
      " [0 0 0 0 0]]\n",
      "\n",
      "Identity matrix : \n",
      "[[1 0 0 0 0]\n",
      " [0 1 0 0 0]\n",
      " [0 0 1 0 0]\n",
      " [0 0 0 1 0]\n",
      " [0 0 0 0 1]]\n",
      "\n",
      "Matrix with number from range 0 to 70 step 4 : \n",
      "[ 0  4  8 12 16 20 24 28 32 36 40 44 48 52 56 60 64 68]\n",
      "\n",
      "Matrix filled with numbers from range 0 to 1 : \n",
      "[[0.02183232 0.30521834]\n",
      " [0.20327668 0.28967308]\n",
      " [0.00769846 0.84319839]]\n",
      "\n",
      "Matrix transpose : \n",
      "[[0.02183232 0.20327668 0.00769846]\n",
      " [0.30521834 0.28967308 0.84319839]]\n",
      "\n",
      "Vector filled with number from -2 to 30 : \n",
      "[-2 -1  0  1  2  3  4  5  6  7  8  9 10 11 12 13 14 15 16 17 18 19 20 21\n",
      " 22 23 24 25 26 27 28 29]\n"
     ]
    }
   ],
   "source": [
    "print(\"Matrix filled with zero : \")\n",
    "print(np.zeros((4,5),dtype=int))\n",
    "print(\"\\nIdentity matrix : \")\n",
    "print(np.identity(5, dtype = int))\n",
    "print(\"\\nMatrix with number from range 0 to 70 step 4 : \")\n",
    "print(np.arange(0,70,4))\n",
    "print(\"\\nMatrix filled with numbers from range 0 to 1 : \")\n",
    "a=np.random.rand(3,2)\n",
    "print(a)\n",
    "print(\"\\nMatrix transpose : \")\n",
    "print(a.T)\n",
    "print(\"\\nVector filled with number from -2 to 30 : \")\n",
    "print(np.arange(-2,30))\n"
   ]
  },
  {
   "cell_type": "markdown",
   "metadata": {},
   "source": [
    "### Zadania 6\n",
    "Napisz programy wykonujący podstawowe operacje algebry: dodawanie wektórów, mnożenie wektorów, mnożenia macierzy. Najpierw napisz je w wersji szkolnej, nie zastanawiając się nad jakąkolwiek optymalizacją. Następnie spróbuj zmienić organizację obliczeń tak by uzyskać poprawę wydajności. Na koniec porównaj swoje metody do dedykowanych funkcji z bibliotek NumPy i SciPy. \n"
   ]
  },
  {
   "cell_type": "code",
   "execution_count": 74,
   "metadata": {},
   "outputs": [
    {
     "name": "stdout",
     "output_type": "stream",
     "text": [
      "Vectors multiplicated : \n",
      "55\n",
      "Added vectors :  [ 2  4  6  8 10]\n",
      "First matrix :  [[0. 1. 2.]\n",
      " [3. 4. 5.]\n",
      " [6. 7. 8.]]\n",
      "Second matrix :  [0. 1. 2.]\n",
      "Sum of two matrixs :  \n",
      " [[ 0.  2.  4.]\n",
      " [ 3.  5.  7.]\n",
      " [ 6.  8. 10.]]\n",
      "[114, 160, 60, 27]\n",
      "[74, 97, 73, 14]\n",
      "[119, 157, 112, 23]\n"
     ]
    }
   ],
   "source": [
    "a=np.array([1,2,3,4,5])\n",
    "b=np.array([1,2,3,4,5])\n",
    "x1 = np.arange(9.0).reshape((3, 3))\n",
    "x2 = np.arange(3.0)\n",
    "first = [[12,7,3],\n",
    "    [4 ,5,6],\n",
    "    [7 ,8,9]]\n",
    "second = [[5,8,1,2],\n",
    "    [6,7,3,0],\n",
    "    [4,5,9,1]]\n",
    "def vec_multiplicate (first,second):\n",
    "    if len(first)!=len(second) :\n",
    "        print(\"Incorrect data provided\") \n",
    "        return\n",
    "    mySum=0;\n",
    "    for i in range(len(first)):\n",
    "        mySum+=(first[i]*second[i])\n",
    "    print(mySum)\n",
    "print(\"Vectors multiplicated : \");\n",
    "vec_multiplicate(a,b);\n",
    "\n",
    "def add_vectors(vector1,vector2):\n",
    "    if len(vector1)!=len(vector2) :\n",
    "        print(\"Incorrect data provided\") \n",
    "        return\n",
    "    for i in range(len(vector1)):\n",
    "        vector1[i]+=vector2[i]\n",
    "        vector2[i]=vector1[i]\n",
    "    print(\"Added vectors : \" ,vector1)\n",
    "add_vectors(a,b)\n",
    "\n",
    "def mat_multiplicate(first,second):\n",
    "    result=[[0,0,0,0],\n",
    "         [0,0,0,0],\n",
    "         [0,0,0,0]];\n",
    "    for i in range(len(first)):\n",
    "        for j in range(len(second[0])):\n",
    "            for k in range(len(second)):\n",
    "                 result[i][j] += first[i][k] * second[k][j]\n",
    "    for r in result:\n",
    "        print(r)\n",
    "\n",
    "print(\"First matrix : \",x1)\n",
    "print(\"Second matrix : \",x2)\n",
    "print(\"Sum of two matrixs : \",\"\\n\",np.add(x1, x2))\n",
    "mat_multiplicate(first,second);"
   ]
  },
  {
   "cell_type": "markdown",
   "metadata": {},
   "source": [
    "Możemy sprawdzić że funkcje wbudowane są wydajniejsze."
   ]
  },
  {
   "cell_type": "code",
   "execution_count": null,
   "metadata": {},
   "outputs": [],
   "source": []
  }
 ],
 "metadata": {
  "kernelspec": {
   "display_name": "Python 3",
   "language": "python",
   "name": "python3"
  },
  "language_info": {
   "codemirror_mode": {
    "name": "ipython",
    "version": 3
   },
   "file_extension": ".py",
   "mimetype": "text/x-python",
   "name": "python",
   "nbconvert_exporter": "python",
   "pygments_lexer": "ipython3",
   "version": "3.7.6"
  },
  "pycharm": {
   "stem_cell": {
    "cell_type": "raw",
    "source": [],
    "metadata": {
     "collapsed": false
    }
   }
  }
 },
 "nbformat": 4,
 "nbformat_minor": 1
}