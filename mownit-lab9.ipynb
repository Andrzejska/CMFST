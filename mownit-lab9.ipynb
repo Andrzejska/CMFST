{
 "cells": [
  {
   "cell_type": "markdown",
   "metadata": {
    "collapsed": true,
    "pycharm": {
     "name": "#%% md\n"
    }
   },
   "source": [
    "## Rozwiązywanie układów równań liniowych \n",
    "\n",
    "#### Zadanie 1 \n",
    "Zaimplemenuj metodę eliminacji Gaussa bez pivotingu i z pivotingiem dla układu równań o dowolnym rozmiarze. "
   ]
  },
  {
   "cell_type": "code",
   "execution_count": null,
   "metadata": {
    "pycharm": {
     "is_executing": false,
     "name": "#%%\n"
    }
   },
   "outputs": [],
   "source": [
    "# AB macierz wspolczyników przy niewiadomych i wyrazów wolnych\n",
    "# X macierz niewiadomych\n",
    "# EPS przecyzja z którą chcemy otrzymać wyniki\n",
    "def gaussWithoutPivoting(matrixDegree,AB,X,EPS):\n",
    "    for i in range(0,matrixDegree-1):\n",
    "        if abs(AB[i][i])<EPS: return False\n",
    "        for j in range(i+1,matrixDegree):\n",
    "            m=-AB[j][i]/AB[i][i]\n",
    "            for k in range(i+1,matrixDegree+1):\n",
    "                AB[j][k]+=m*AB[i][k]\n",
    "    for i in range(matrixDegree-1,-1,-1):\n",
    "        if abs(AB[i][i])<EPS: return False\n",
    "        s=AB[i][matrixDegree]\n",
    "        for j in range(matrixDegree-1,i,-1):\n",
    "            s-=AB[i][j]*X[j]\n",
    "        X[i]=s/AB[i][i]\n",
    "    return True\n",
    "\n",
    "def gaussWithPivoting(matrixDegree,AB,X,EPS):\n",
    "    WK=[]\n",
    "    for i in range(0,matrixDegree+1):WK.append(i)\n",
    "    for i in range(0,matrixDegree-1):\n",
    "        for j in range(i+1,matrixDegree):\n",
    "            k=i\n",
    "            if abs(AB[i][WK[k]]<abs(AB[i][WK[j]])):k=j\n",
    "        if k!=i: \n",
    "            tmp=WK[k]\n",
    "            WK[k]=WK[i]\n",
    "            WK[i]=tmp\n",
    "        if abs(AB[i][WK[i]])<EPS: return False\n",
    "        for j in range(i+1,matrixDegree):\n",
    "            m=-AB[j][WK[i]]/AB[i][WK[i]]\n",
    "            for k in range(i+1,matrixDegree+1):\n",
    "                AB[j][WK[k]]+=m*AB[i][WK[k]]\n",
    "    for i in range(matrixDegree-1,-1,-1):\n",
    "        if abs(AB[i][WK[i]])<EPS: return False\n",
    "        s=AB[i][matrixDegree]\n",
    "        for j in range(matrixDegree-1,i,-1):\n",
    "            s-=AB[i][WK[j]]*X[WK[j]]\n",
    "        X[WK[i]]=s/AB[i][WK[i]]\n",
    "    return True"
   ]
  },
  {
   "cell_type": "markdown",
   "metadata": {},
   "source": [
    "#### Zadanie 2\n",
    "Zademonstruj działanie algorytmu na macierzy o rozmiarze 5 x 5. Zademonstruj w jakiej sytuacji potrzebny jest pivoting i jak działa. \n",
    "\n",
    "\n",
    "W podstawowym algorytmie eliminacji Gaussa wykonywane jest dzielenie przez element leżący na przekątnej głównej macierzy współczynników. Jeśli element ten jest równy 0, to dzielenie nie może zostać wykonane i algorytm musi zakończyć pracę z błędem w takim przypadku korzystamy algorytm eliminacji Gaussa z tak zwanym pivotingiem."
   ]
  },
  {
   "cell_type": "code",
   "execution_count": 2,
   "metadata": {
    "pycharm": {
     "is_executing": false,
     "name": "#%%\n"
    },
    "scrolled": false
   },
   "outputs": [
    {
     "name": "stdout",
     "output_type": "stream",
     "text": [
      "Without pivoting\n",
      "x 0 = 1\n",
      "x 1 = 3\n",
      "x 2 = 5\n",
      "x 3 = 7\n",
      "x 4 = 9\n",
      "\n",
      "\n",
      "With pivoting\n",
      "x 0 = -0.6736842105263179\n",
      "x 1 = -1.1368421052631603\n",
      "x 2 = 6.957894736842108\n",
      "x 3 = 7.473684210526317\n",
      "x 4 = 11.210526315789476\n"
     ]
    }
   ],
   "source": [
    "matrixDegree=5\n",
    "AB=[[-1,2,-3,3,5,56],\n",
    "    [8,0,7,4,-1,62],\n",
    "    [-3,4,-3,2,-2,-10],\n",
    "    [8,-3,-2,1,2,14],\n",
    "    [-2,-1,-6,9,0,28]]\n",
    "X=[None] * matrixDegree\n",
    "if gaussWithoutPivoting(matrixDegree,AB,X,0.000000001):\n",
    "    print(\"Without pivoting\")\n",
    "    for i in range(0,5):\n",
    "        print(\"x\",i,\"=\",round(X[i]))\n",
    "    print(\"\\n\")\n",
    "    \n",
    "matrixDegreeP=5\n",
    "ABP=[[-1,2,-3,3,5,56],\n",
    "    [8,0,7,4,-1,62],\n",
    "    [-3,4,0,2,-2,-10],\n",
    "    [8,-3,-2,1,2,14],\n",
    "    [-2,-1,-6,9,0,28]]\n",
    "XP=[None] * matrixDegree\n",
    "if gaussWithPivoting(matrixDegreeP,ABP,XP,0.000000001):\n",
    "    print(\"With pivoting\")\n",
    "    for i in range(0,5):\n",
    "        print(\"x\",i,\"=\",XP[i])\n",
    "else: print(\"Pivoting failed\")\n",
    "    "
   ]
  },
  {
   "cell_type": "markdown",
   "metadata": {
    "pycharm": {
     "name": "#%% md\n"
    }
   },
   "source": [
    "#### Zadanie 3\n",
    "Podaj teorytyczną złożoność obliczeniową algorytmu eliminacji Gaussa. Przeprowadź testy wydajności swojego algorytmu sprawdzając jego działanie dla różnych rozmiarów macierzy (testy powinny być wykonane poza środowiskiem jupyter). Aby wygenerować układ równań, wygeneruj wektor rozwiązań i macierz współczynników losując wartości (skorzystaj z funkcji poznanych w Ćwiczeniu 2) i następnie oblicz wektor wyrazów wolnych. \n",
    "\n",
    "Teorytyczną złożoność obliczeniową algorytmu eliminacji Gaussa: **O(n^3*log(∥A∥+∥b∥))** "
   ]
  },
  {
   "cell_type": "code",
   "execution_count": 26,
   "metadata": {
    "pycharm": {
     "is_executing": true
    },
    "scrolled": false
   },
   "outputs": [
    {
     "name": "stdout",
     "output_type": "stream",
     "text": [
      "Time of finding the roots of 10000 equations, Gauss elimination method : \n",
      "\twithout pivoting 2.9735400676727295\n",
      "\twith pivoting 3.111102342605591\n",
      "Without pivoting method is faster\n",
      "Time of finding the roots of 10000 equations, Gauss elimination method : \n",
      "\twithout pivoting 17.408852100372314\n",
      "\twith pivoting 17.867319107055664\n",
      "Without pivoting method is faster\n",
      "Time of finding the roots of 10000 equations, Gauss elimination method : \n",
      "\twithout pivoting 58.85482478141785\n",
      "\twith pivoting 58.64036202430725\n",
      "With pivoting method is faster\n"
     ]
    }
   ],
   "source": [
    "import numpy as np\n",
    "import time\n",
    "EPS=0.000000001\n",
    "def randomSolveWithoutPivoting(matrixDegree):\n",
    "    X=np.random.randint(1,30,matrixDegree) \n",
    "    ABR=np.random.randint(1,30,(matrixDegree,matrixDegree))\n",
    "    B=[]\n",
    "    for i in range(0,matrixDegree):\n",
    "        numberToAdd=0\n",
    "        for j in range(0,matrixDegree):\n",
    "            numberToAdd+=X[j]*ABR[i][j]\n",
    "        B.append(numberToAdd)\n",
    "    BT=np.array([B]).T\n",
    "    #Dodanie wyrazów wolnych do macierzy wspóczyników\n",
    "    ABR=np.append(ABR,BT,1)\n",
    "    results=[None]*matrixDegree\n",
    "    if gaussWithoutPivoting(matrixDegree,ABR,results,EPS):\n",
    "        return True\n",
    "    else: return False\n",
    "    \n",
    "        \n",
    "def randomSolveWithPivoting(matrixDegree):\n",
    "    X=np.random.randint(-15,15,matrixDegree) \n",
    "    ABR=np.random.randint(-15,15,(matrixDegree,matrixDegree))\n",
    "    B=[]\n",
    "    for i in range(0,matrixDegree):\n",
    "        numberToAdd=0\n",
    "        for j in range(0,matrixDegree):\n",
    "            numberToAdd+=X[j]*ABR[i][j]\n",
    "        B.append(numberToAdd)\n",
    "    BT=np.array([B]).T\n",
    "    #Dodanie wyrazów wolnych do macierzy wspóczyników\n",
    "    ABR=np.append(ABR,BT,1)\n",
    "    results=[None]*matrixDegree\n",
    "    if gaussWithPivoting(matrixDegree,ABR,results,EPS):\n",
    "        return True\n",
    "    else: return False\n",
    "        \n",
    "        \n",
    "def showTime(numberOfEquations,matrixDegree):\n",
    "    start=time.time()\n",
    "    i=0\n",
    "    while i<numberOfEquations:\n",
    "        if randomSolveWithoutPivoting(matrixDegree):\n",
    "            i+=1\n",
    "    end=time.time()\n",
    "    final=end-start\n",
    "    startP=time.time()\n",
    "    i=0\n",
    "    while i<numberOfEquations:\n",
    "        if randomSolveWithPivoting(matrixDegree):\n",
    "            i+=1\n",
    "    endP=time.time()\n",
    "    finalP=endP-startP\n",
    "    print(\"Time of finding the roots of\",numberOfEquations,\"equations, Gauss elimination method : \")\n",
    "    print(\"\\twithout pivoting\",final)\n",
    "    print(\"\\twith pivoting\",finalP)\n",
    "    print(\"With pivoting method is faster\") if(final>finalP) else print(\"Without pivoting method is faster\")\n",
    "\n",
    "showTime(10000,5)\n",
    "showTime(10000,10)\n",
    "showTime(10000,15)\n"
   ]
  },
  {
   "cell_type": "markdown",
   "metadata": {},
   "source": [
    "Prowadzone badania pozwalają zrobić wniosek, że działania algorytmu bez pivotingu jest szybsze. Chociaż dwa algorytmy działają\n",
    "prawie w tym samym czasie."
   ]
  }
 ],
 "metadata": {
  "kernelspec": {
   "display_name": "Python 3",
   "language": "python",
   "name": "python3"
  },
  "language_info": {
   "codemirror_mode": {
    "name": "ipython",
    "version": 3
   },
   "file_extension": ".py",
   "mimetype": "text/x-python",
   "name": "python",
   "nbconvert_exporter": "python",
   "pygments_lexer": "ipython3",
   "version": "3.7.6"
  },
  "pycharm": {
   "stem_cell": {
    "cell_type": "raw",
    "metadata": {
     "collapsed": false
    },
    "source": []
   }
  }
 },
 "nbformat": 4,
 "nbformat_minor": 1
}
